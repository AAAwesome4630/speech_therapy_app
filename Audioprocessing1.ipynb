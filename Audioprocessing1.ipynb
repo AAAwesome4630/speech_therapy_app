{
  "nbformat": 4,
  "nbformat_minor": 0,
  "metadata": {
    "colab": {
      "name": "Audioprocessing1",
      "provenance": [],
      "collapsed_sections": [],
      "machine_shape": "hm"
    },
    "kernelspec": {
      "name": "python3",
      "display_name": "Python 3"
    }
  },
  "cells": [
    {
      "cell_type": "code",
      "metadata": {
        "id": "ddeJIp0oK4l4",
        "colab_type": "code",
        "outputId": "106e3943-e0b8-45ca-8fdf-02ac8d96cd00",
        "colab": {
          "base_uri": "https://localhost:8080/",
          "height": 34
        }
      },
      "source": [
        "from google.colab import drive\n",
        "drive.mount('/content/drive')"
      ],
      "execution_count": 0,
      "outputs": [
        {
          "output_type": "stream",
          "text": [
            "Drive already mounted at /content/drive; to attempt to forcibly remount, call drive.mount(\"/content/drive\", force_remount=True).\n"
          ],
          "name": "stdout"
        }
      ]
    },
    {
      "cell_type": "code",
      "metadata": {
        "id": "794PDkS0LbpS",
        "colab_type": "code",
        "outputId": "88f96207-90fa-47b6-d8b2-79be0149b8f0",
        "colab": {
          "base_uri": "https://localhost:8080/",
          "height": 34
        }
      },
      "source": [
        "import os\n",
        "numberOfFiles = 0\n",
        "directory = '/content/drive/My Drive/12th grade/Senior Project/Healthy'\n",
        "for filename in os.listdir(directory):\n",
        "  numberOfFiles +=1\n",
        "print(numberOfFiles)\n"
      ],
      "execution_count": 0,
      "outputs": [
        {
          "output_type": "stream",
          "text": [
            "972\n"
          ],
          "name": "stdout"
        }
      ]
    },
    {
      "cell_type": "code",
      "metadata": {
        "id": "qDN9DBwtk1w-",
        "colab_type": "code",
        "outputId": "865f8ada-71a4-4c53-c2f2-f2ddeb1806fc",
        "colab": {
          "base_uri": "https://localhost:8080/",
          "height": 85
        }
      },
      "source": [
        "import librosa\n",
        "import os\n",
        "import numpy as np\n",
        "\n",
        "max_pad_len = 7223\n",
        "\n",
        "\n",
        "audio, sample_rate = librosa.load('/content/drive/My Drive/12th grade/Senior Project/Healthy/1-a_n.wav', res_type='kaiser_fast')\n",
        "print(sample_rate)\n",
        "print(audio) \n",
        "try:\n",
        "    mfccs = librosa.feature.mfcc(y=audio, sr=sample_rate, n_mfcc=40)\n",
        "    print(mfccs.shape)\n",
        "    \n",
        "    pad_width = max_pad_len - mfccs.shape[1]\n",
        "    mfccs = np.pad(mfccs, pad_width=((0, 0), (0, pad_width)), mode='constant')\n",
        "    print(mfccs.shape)\n",
        "    \n",
        "except Exception as e:\n",
        "    print(\"Error encountered while parsing file: \", file_name)\n"
      ],
      "execution_count": 0,
      "outputs": [
        {
          "output_type": "stream",
          "text": [
            "22050\n",
            "[0.11425632 0.1663573  0.11771581 ... 0.04529907 0.07436734 0.        ]\n",
            "(40, 84)\n",
            "(40, 7223)\n"
          ],
          "name": "stdout"
        }
      ]
    },
    {
      "cell_type": "code",
      "metadata": {
        "id": "BMA5aJ_f7Bi9",
        "colab_type": "code",
        "outputId": "433c311c-9727-4f8d-b668-8a313a80cfc5",
        "colab": {
          "base_uri": "https://localhost:8080/",
          "height": 34
        }
      },
      "source": [
        "import numpy as np\n",
        "max_pad_len = 7223\n",
        "\n",
        "# def extract_features(file_name):\n",
        "   \n",
        "#     try:\n",
        "#         audio, sample_rate = librosa.load(file_name, res_type='kaiser_fast')\n",
        "#        # print (audio)\n",
        "#        # print (sample_rate) \n",
        "#         mfccs = librosa.feature.mfcc(y=audio, sr=sample_rate, n_mfcc=40)\n",
        "#         mfccsscaled = np.mean(mfccs.T,axis=0)\n",
        "        \n",
        "#     except Exception as e:\n",
        "#         print(e + \"Error encountered while parsing file: \", file_name)\n",
        "#         return None \n",
        "     \n",
        "#     return mfccsscaled\n",
        "\n",
        "def extract_features(file_name):\n",
        "   \n",
        "    try:\n",
        "        audio, sample_rate = librosa.load(file_name, res_type='kaiser_fast')\n",
        "        #print(sample_rate)\n",
        "        mfccs = librosa.feature.mfcc(y=audio, sr=sample_rate, n_mfcc=40)\n",
        "        #print(mfccs.shape)\n",
        "        \n",
        "        pad_width = max_pad_len - mfccs.shape[1]\n",
        "        mfccs = np.pad(mfccs, pad_width=((0, 0), (0, pad_width)), mode='constant')\n",
        "        \n",
        "    except Exception as e:\n",
        "        print(\"Error encountered while parsing file: \", file_name)\n",
        "        return None \n",
        "     \n",
        "    return mfccs\n",
        "\n",
        "# Load various imports \n",
        "\n",
        "import pandas as pd\n",
        "import os\n",
        "import librosa\n",
        "\n",
        "features = []\n",
        "\n",
        "#start with Healthy:\n",
        "\n",
        "directory = '/content/drive/My Drive/12th grade/Senior Project/Healthy'\n",
        "\n",
        "for filename in os.listdir(directory):\n",
        "    if filename.endswith(\".wav\"):\n",
        "      data = extract_features(directory+ '/'+ filename)\n",
        "      features.append([data, \"healthy\"])\n",
        "      \n",
        "\n",
        "#next go through Pathological:\n",
        "directory = '/content/drive/My Drive/12th grade/Senior Project/Pathological'\n",
        "\n",
        "for filename in os.listdir(directory):\n",
        "    if filename.endswith(\".wav\"):\n",
        "      data = extract_features(directory+ '/'+ filename)\n",
        "      features.append([data, \"pathological\"])\n",
        "\n",
        "# Convert into a Panda dataframe \n",
        "featuresdf = pd.DataFrame(features, columns=['feature','label'])\n",
        "\n",
        "print('Finished feature extraction from ', len(featuresdf), 'files')"
      ],
      "execution_count": 0,
      "outputs": [
        {
          "output_type": "stream",
          "text": [
            "Finished feature extraction from  2019 files\n"
          ],
          "name": "stdout"
        }
      ]
    },
    {
      "cell_type": "code",
      "metadata": {
        "id": "GjIU8TAEx4O0",
        "colab_type": "code",
        "outputId": "ed917e42-4a40-4db6-fca2-7bfb7be235bb",
        "colab": {
          "base_uri": "https://localhost:8080/",
          "height": 255
        }
      },
      "source": [
        "print(featuresdf)"
      ],
      "execution_count": 0,
      "outputs": [
        {
          "output_type": "stream",
          "text": [
            "                                                feature         label\n",
            "0     [[-116.22905654781799, -126.04590981234061, -1...       healthy\n",
            "1     [[-126.12949431757471, -147.89815989125637, -1...       healthy\n",
            "2     [[-133.94486644305735, -160.52965450893257, -1...       healthy\n",
            "3     [[-62.70337969346285, -95.36462212165884, -146...       healthy\n",
            "4     [[-153.2609159072828, -172.51277819587517, -19...       healthy\n",
            "...                                                 ...           ...\n",
            "2014  [[-97.22572812506833, -93.25961983463002, -100...  pathological\n",
            "2015  [[-131.52875166701983, -145.0058851281211, -15...  pathological\n",
            "2016  [[-192.38812952123013, -209.52246804700602, -2...  pathological\n",
            "2017  [[-144.49387423230138, -165.5888310210561, -20...  pathological\n",
            "2018  [[-192.01177126134857, -192.9680438781097, -19...  pathological\n",
            "\n",
            "[2019 rows x 2 columns]\n"
          ],
          "name": "stdout"
        }
      ]
    },
    {
      "cell_type": "code",
      "metadata": {
        "id": "gOJmUxZjqqNW",
        "colab_type": "code",
        "outputId": "71c726c0-ebe6-49e0-8977-9294ab745e9e",
        "colab": {
          "base_uri": "https://localhost:8080/",
          "height": 246
        }
      },
      "source": [
        "import numpy as np\n",
        "from sklearn.preprocessing import LabelEncoder\n",
        "from keras.utils import to_categorical\n",
        "\n",
        "# Convert features and corresponding classification labels into numpy arrays\n",
        "X = np.array(featuresdf.feature.tolist())\n",
        "#print(X)\n",
        "y = np.array(featuresdf.label.tolist())\n",
        "#print(y)\n",
        "# Encode the classification labels\n",
        "le = LabelEncoder()\n",
        "#print(le)\n",
        "yy = to_categorical(le.fit_transform(y)) \n",
        "# split the dataset \n",
        "from sklearn.model_selection import train_test_split \n",
        "\n",
        "x_train, x_test, y_train, y_test = train_test_split(X, yy, test_size=0.2, random_state = 42)\n",
        "print(y_train)\n",
        "print(x_train.shape)\n",
        "print(y_test.shape)"
      ],
      "execution_count": 0,
      "outputs": [
        {
          "output_type": "stream",
          "text": [
            "Using TensorFlow backend.\n"
          ],
          "name": "stderr"
        },
        {
          "output_type": "error",
          "ename": "NameError",
          "evalue": "ignored",
          "traceback": [
            "\u001b[0;31m---------------------------------------------------------------------------\u001b[0m",
            "\u001b[0;31mNameError\u001b[0m                                 Traceback (most recent call last)",
            "\u001b[0;32m<ipython-input-1-ae73eb94bf56>\u001b[0m in \u001b[0;36m<module>\u001b[0;34m()\u001b[0m\n\u001b[1;32m      4\u001b[0m \u001b[0;34m\u001b[0m\u001b[0m\n\u001b[1;32m      5\u001b[0m \u001b[0;31m# Convert features and corresponding classification labels into numpy arrays\u001b[0m\u001b[0;34m\u001b[0m\u001b[0;34m\u001b[0m\u001b[0;34m\u001b[0m\u001b[0m\n\u001b[0;32m----> 6\u001b[0;31m \u001b[0mX\u001b[0m \u001b[0;34m=\u001b[0m \u001b[0mnp\u001b[0m\u001b[0;34m.\u001b[0m\u001b[0marray\u001b[0m\u001b[0;34m(\u001b[0m\u001b[0mfeaturesdf\u001b[0m\u001b[0;34m.\u001b[0m\u001b[0mfeature\u001b[0m\u001b[0;34m.\u001b[0m\u001b[0mtolist\u001b[0m\u001b[0;34m(\u001b[0m\u001b[0;34m)\u001b[0m\u001b[0;34m)\u001b[0m\u001b[0;34m\u001b[0m\u001b[0;34m\u001b[0m\u001b[0m\n\u001b[0m\u001b[1;32m      7\u001b[0m \u001b[0;31m#print(X)\u001b[0m\u001b[0;34m\u001b[0m\u001b[0;34m\u001b[0m\u001b[0;34m\u001b[0m\u001b[0m\n\u001b[1;32m      8\u001b[0m \u001b[0my\u001b[0m \u001b[0;34m=\u001b[0m \u001b[0mnp\u001b[0m\u001b[0;34m.\u001b[0m\u001b[0marray\u001b[0m\u001b[0;34m(\u001b[0m\u001b[0mfeaturesdf\u001b[0m\u001b[0;34m.\u001b[0m\u001b[0mlabel\u001b[0m\u001b[0;34m.\u001b[0m\u001b[0mtolist\u001b[0m\u001b[0;34m(\u001b[0m\u001b[0;34m)\u001b[0m\u001b[0;34m)\u001b[0m\u001b[0;34m\u001b[0m\u001b[0;34m\u001b[0m\u001b[0m\n",
            "\u001b[0;31mNameError\u001b[0m: name 'featuresdf' is not defined"
          ]
        }
      ]
    },
    {
      "cell_type": "code",
      "metadata": {
        "id": "6a0IVw-yqqLq",
        "colab_type": "code",
        "colab": {}
      },
      "source": [
        "import numpy as np\n",
        "from keras.models import Sequential\n",
        "from keras.layers import Dense, Dropout, Activation, Flatten\n",
        "from keras.layers import Convolution2D, Conv2D, MaxPooling2D, GlobalAveragePooling2D\n",
        "from keras.optimizers import Adam\n",
        "from keras.utils import np_utils\n",
        "from sklearn import metrics \n",
        "\n",
        "num_rows = 40\n",
        "num_columns = 7223\n",
        "num_channels = 1\n",
        "\n",
        "x_train = x_train.reshape(x_train.shape[0], num_rows, num_columns, num_channels)\n",
        "x_test = x_test.reshape(x_test.shape[0], num_rows, num_columns, num_channels)\n",
        "\n",
        "num_labels = yy.shape[1]\n",
        "filter_size = 2\n",
        "\n",
        "# Construct model \n",
        "model = Sequential()\n",
        "model.add(Conv2D(filters=16, kernel_size=2, input_shape=(num_rows, num_columns, num_channels), activation='relu'))\n",
        "model.add(MaxPooling2D(pool_size=2))\n",
        "model.add(Dropout(0.2))\n",
        "\n",
        "model.add(Conv2D(filters=32, kernel_size=2, activation='relu'))\n",
        "model.add(MaxPooling2D(pool_size=2))\n",
        "model.add(Dropout(0.2))\n",
        "\n",
        "model.add(Conv2D(filters=64, kernel_size=2, activation='relu'))\n",
        "model.add(MaxPooling2D(pool_size=2))\n",
        "model.add(Dropout(0.2))\n",
        "\n",
        "model.add(Conv2D(filters=128, kernel_size=2, activation='relu'))\n",
        "model.add(MaxPooling2D(pool_size=2))\n",
        "model.add(Dropout(0.2))\n",
        "model.add(GlobalAveragePooling2D())\n",
        "\n",
        "model.add(Dense(num_labels, activation='softmax'))"
      ],
      "execution_count": 0,
      "outputs": []
    },
    {
      "cell_type": "code",
      "metadata": {
        "id": "9NrMWI9iHqId",
        "colab_type": "code",
        "outputId": "c9b172dc-dc5a-4072-fcee-a9c8af13400f",
        "colab": {
          "base_uri": "https://localhost:8080/",
          "height": 163
        }
      },
      "source": [
        "print (x_train.shape)"
      ],
      "execution_count": 0,
      "outputs": [
        {
          "output_type": "error",
          "ename": "NameError",
          "evalue": "ignored",
          "traceback": [
            "\u001b[0;31m---------------------------------------------------------------------------\u001b[0m",
            "\u001b[0;31mNameError\u001b[0m                                 Traceback (most recent call last)",
            "\u001b[0;32m<ipython-input-9-4caeab8cb669>\u001b[0m in \u001b[0;36m<module>\u001b[0;34m()\u001b[0m\n\u001b[0;32m----> 1\u001b[0;31m \u001b[0mprint\u001b[0m \u001b[0;34m(\u001b[0m\u001b[0mx_train\u001b[0m\u001b[0;34m.\u001b[0m\u001b[0mshape\u001b[0m\u001b[0;34m)\u001b[0m\u001b[0;34m\u001b[0m\u001b[0;34m\u001b[0m\u001b[0m\n\u001b[0m",
            "\u001b[0;31mNameError\u001b[0m: name 'x_train' is not defined"
          ]
        }
      ]
    },
    {
      "cell_type": "code",
      "metadata": {
        "id": "i_wXsDv6oonB",
        "colab_type": "code",
        "colab": {}
      },
      "source": [
        "model.compile(loss='categorical_crossentropy', metrics=['accuracy'], optimizer='adam')"
      ],
      "execution_count": 0,
      "outputs": []
    },
    {
      "cell_type": "code",
      "metadata": {
        "id": "TdkJQodHoxtr",
        "colab_type": "code",
        "outputId": "f22269a2-d2e1-436f-8559-41c6fca744ed",
        "colab": {
          "base_uri": "https://localhost:8080/",
          "height": 646
        }
      },
      "source": [
        "# Display model architecture summary \n",
        "model.summary()\n",
        "\n",
        "# Calculate pre-training accuracy \n",
        "score = model.evaluate(x_test, y_test, verbose=0)\n",
        "accuracy = 100*score[1]\n",
        "\n",
        "print(\"Pre-training accuracy: %.4f%%\" % accuracy)"
      ],
      "execution_count": 0,
      "outputs": [
        {
          "output_type": "stream",
          "text": [
            "Model: \"sequential_2\"\n",
            "_________________________________________________________________\n",
            "Layer (type)                 Output Shape              Param #   \n",
            "=================================================================\n",
            "conv2d_5 (Conv2D)            (None, 39, 7222, 16)      80        \n",
            "_________________________________________________________________\n",
            "max_pooling2d_5 (MaxPooling2 (None, 19, 3611, 16)      0         \n",
            "_________________________________________________________________\n",
            "dropout_5 (Dropout)          (None, 19, 3611, 16)      0         \n",
            "_________________________________________________________________\n",
            "conv2d_6 (Conv2D)            (None, 18, 3610, 32)      2080      \n",
            "_________________________________________________________________\n",
            "max_pooling2d_6 (MaxPooling2 (None, 9, 1805, 32)       0         \n",
            "_________________________________________________________________\n",
            "dropout_6 (Dropout)          (None, 9, 1805, 32)       0         \n",
            "_________________________________________________________________\n",
            "conv2d_7 (Conv2D)            (None, 8, 1804, 64)       8256      \n",
            "_________________________________________________________________\n",
            "max_pooling2d_7 (MaxPooling2 (None, 4, 902, 64)        0         \n",
            "_________________________________________________________________\n",
            "dropout_7 (Dropout)          (None, 4, 902, 64)        0         \n",
            "_________________________________________________________________\n",
            "conv2d_8 (Conv2D)            (None, 3, 901, 128)       32896     \n",
            "_________________________________________________________________\n",
            "max_pooling2d_8 (MaxPooling2 (None, 1, 450, 128)       0         \n",
            "_________________________________________________________________\n",
            "dropout_8 (Dropout)          (None, 1, 450, 128)       0         \n",
            "_________________________________________________________________\n",
            "global_average_pooling2d_2 ( (None, 128)               0         \n",
            "_________________________________________________________________\n",
            "dense_2 (Dense)              (None, 2)                 258       \n",
            "=================================================================\n",
            "Total params: 43,570\n",
            "Trainable params: 43,570\n",
            "Non-trainable params: 0\n",
            "_________________________________________________________________\n",
            "Pre-training accuracy: 49.2574%\n"
          ],
          "name": "stdout"
        }
      ]
    },
    {
      "cell_type": "code",
      "metadata": {
        "id": "zjeOpju1o7yA",
        "colab_type": "code",
        "outputId": "9c651d06-b7d1-47b7-8fc2-18c4fd54d3fc",
        "colab": {
          "base_uri": "https://localhost:8080/",
          "height": 1000
        }
      },
      "source": [
        "num_epochs = 100\n",
        "num_batch_size = 32\n",
        "\n",
        "\n",
        "\n",
        "model.fit(x_train, y_train, batch_size=num_batch_size, epochs=num_epochs, validation_data=(x_test, y_test))"
      ],
      "execution_count": 0,
      "outputs": [
        {
          "output_type": "stream",
          "text": [
            "Train on 1615 samples, validate on 404 samples\n",
            "Epoch 1/100\n",
            "1615/1615 [==============================] - 152s 94ms/step - loss: 0.6949 - accuracy: 0.5108 - val_loss: 0.6899 - val_accuracy: 0.5767\n",
            "Epoch 2/100\n",
            "1615/1615 [==============================] - 151s 93ms/step - loss: 0.6847 - accuracy: 0.5548 - val_loss: 0.6851 - val_accuracy: 0.5891\n",
            "Epoch 3/100\n",
            "1615/1615 [==============================] - 155s 96ms/step - loss: 0.6679 - accuracy: 0.6012 - val_loss: 0.6646 - val_accuracy: 0.6312\n",
            "Epoch 4/100\n",
            "1615/1615 [==============================] - 151s 94ms/step - loss: 0.6440 - accuracy: 0.6495 - val_loss: 0.6514 - val_accuracy: 0.6411\n",
            "Epoch 5/100\n",
            "1615/1615 [==============================] - 151s 93ms/step - loss: 0.6484 - accuracy: 0.6359 - val_loss: 0.6562 - val_accuracy: 0.6312\n",
            "Epoch 6/100\n",
            "1615/1615 [==============================] - 151s 93ms/step - loss: 0.6280 - accuracy: 0.6718 - val_loss: 0.6363 - val_accuracy: 0.6733\n",
            "Epoch 7/100\n",
            "1615/1615 [==============================] - 152s 94ms/step - loss: 0.6112 - accuracy: 0.6762 - val_loss: 0.6291 - val_accuracy: 0.6658\n",
            "Epoch 8/100\n",
            "1615/1615 [==============================] - 151s 94ms/step - loss: 0.6083 - accuracy: 0.6848 - val_loss: 0.6331 - val_accuracy: 0.6634\n",
            "Epoch 9/100\n",
            "1615/1615 [==============================] - 152s 94ms/step - loss: 0.5990 - accuracy: 0.6879 - val_loss: 0.6151 - val_accuracy: 0.6832\n",
            "Epoch 10/100\n",
            "1615/1615 [==============================] - 151s 94ms/step - loss: 0.6002 - accuracy: 0.6898 - val_loss: 0.6193 - val_accuracy: 0.6807\n",
            "Epoch 11/100\n",
            "1615/1615 [==============================] - 153s 95ms/step - loss: 0.5861 - accuracy: 0.7003 - val_loss: 0.6179 - val_accuracy: 0.6634\n",
            "Epoch 12/100\n",
            "1615/1615 [==============================] - 152s 94ms/step - loss: 0.5800 - accuracy: 0.6991 - val_loss: 0.6152 - val_accuracy: 0.6733\n",
            "Epoch 13/100\n",
            "1615/1615 [==============================] - 152s 94ms/step - loss: 0.5784 - accuracy: 0.7065 - val_loss: 0.6051 - val_accuracy: 0.6683\n",
            "Epoch 14/100\n",
            "1615/1615 [==============================] - 152s 94ms/step - loss: 0.5776 - accuracy: 0.7152 - val_loss: 0.6095 - val_accuracy: 0.6782\n",
            "Epoch 15/100\n",
            "1615/1615 [==============================] - 156s 97ms/step - loss: 0.5607 - accuracy: 0.7201 - val_loss: 0.6047 - val_accuracy: 0.6807\n",
            "Epoch 16/100\n",
            "1615/1615 [==============================] - 151s 93ms/step - loss: 0.5606 - accuracy: 0.7090 - val_loss: 0.6053 - val_accuracy: 0.6609\n",
            "Epoch 17/100\n",
            "1615/1615 [==============================] - 151s 94ms/step - loss: 0.5530 - accuracy: 0.7207 - val_loss: 0.6029 - val_accuracy: 0.6733\n",
            "Epoch 18/100\n",
            "1615/1615 [==============================] - 152s 94ms/step - loss: 0.5563 - accuracy: 0.7121 - val_loss: 0.5985 - val_accuracy: 0.6733\n",
            "Epoch 19/100\n",
            "1615/1615 [==============================] - 153s 95ms/step - loss: 0.5427 - accuracy: 0.7368 - val_loss: 0.5983 - val_accuracy: 0.6683\n",
            "Epoch 20/100\n",
            "1615/1615 [==============================] - 152s 94ms/step - loss: 0.5453 - accuracy: 0.7232 - val_loss: 0.6073 - val_accuracy: 0.6584\n",
            "Epoch 21/100\n",
            "1615/1615 [==============================] - 152s 94ms/step - loss: 0.5384 - accuracy: 0.7449 - val_loss: 0.6007 - val_accuracy: 0.6757\n",
            "Epoch 22/100\n",
            "1615/1615 [==============================] - 152s 94ms/step - loss: 0.5291 - accuracy: 0.7461 - val_loss: 0.5982 - val_accuracy: 0.6807\n",
            "Epoch 23/100\n",
            "1615/1615 [==============================] - 152s 94ms/step - loss: 0.5312 - accuracy: 0.7313 - val_loss: 0.6078 - val_accuracy: 0.6658\n",
            "Epoch 24/100\n",
            "1615/1615 [==============================] - 152s 94ms/step - loss: 0.5195 - accuracy: 0.7443 - val_loss: 0.6002 - val_accuracy: 0.6856\n",
            "Epoch 25/100\n",
            "1615/1615 [==============================] - 152s 94ms/step - loss: 0.5209 - accuracy: 0.7406 - val_loss: 0.5922 - val_accuracy: 0.6832\n",
            "Epoch 26/100\n",
            "1615/1615 [==============================] - 152s 94ms/step - loss: 0.5135 - accuracy: 0.7467 - val_loss: 0.6060 - val_accuracy: 0.6584\n",
            "Epoch 27/100\n",
            "1615/1615 [==============================] - 154s 95ms/step - loss: 0.5052 - accuracy: 0.7437 - val_loss: 0.5961 - val_accuracy: 0.6881\n",
            "Epoch 28/100\n",
            "1615/1615 [==============================] - 151s 94ms/step - loss: 0.4992 - accuracy: 0.7622 - val_loss: 0.6219 - val_accuracy: 0.6658\n",
            "Epoch 29/100\n",
            "1615/1615 [==============================] - 151s 94ms/step - loss: 0.5100 - accuracy: 0.7523 - val_loss: 0.6005 - val_accuracy: 0.6733\n",
            "Epoch 30/100\n",
            "1615/1615 [==============================] - 152s 94ms/step - loss: 0.4899 - accuracy: 0.7647 - val_loss: 0.6044 - val_accuracy: 0.6733\n",
            "Epoch 31/100\n",
            "1615/1615 [==============================] - 153s 95ms/step - loss: 0.5081 - accuracy: 0.7585 - val_loss: 0.6026 - val_accuracy: 0.6460\n",
            "Epoch 32/100\n",
            "1615/1615 [==============================] - 153s 95ms/step - loss: 0.4841 - accuracy: 0.7628 - val_loss: 0.6059 - val_accuracy: 0.6733\n",
            "Epoch 33/100\n",
            "1615/1615 [==============================] - 151s 94ms/step - loss: 0.4881 - accuracy: 0.7653 - val_loss: 0.6143 - val_accuracy: 0.6658\n",
            "Epoch 34/100\n",
            "1615/1615 [==============================] - 151s 94ms/step - loss: 0.4682 - accuracy: 0.7709 - val_loss: 0.6020 - val_accuracy: 0.6683\n",
            "Epoch 35/100\n",
            "1615/1615 [==============================] - 152s 94ms/step - loss: 0.4623 - accuracy: 0.7796 - val_loss: 0.6086 - val_accuracy: 0.6683\n",
            "Epoch 36/100\n",
            "1615/1615 [==============================] - 151s 94ms/step - loss: 0.4609 - accuracy: 0.7709 - val_loss: 0.6001 - val_accuracy: 0.6708\n",
            "Epoch 37/100\n",
            "1615/1615 [==============================] - 151s 94ms/step - loss: 0.4429 - accuracy: 0.7988 - val_loss: 0.6096 - val_accuracy: 0.6733\n",
            "Epoch 38/100\n",
            "1615/1615 [==============================] - 151s 94ms/step - loss: 0.4378 - accuracy: 0.7981 - val_loss: 0.6071 - val_accuracy: 0.6733\n",
            "Epoch 39/100\n",
            "1615/1615 [==============================] - 153s 95ms/step - loss: 0.4481 - accuracy: 0.7895 - val_loss: 0.6134 - val_accuracy: 0.6658\n",
            "Epoch 40/100\n",
            "1615/1615 [==============================] - 151s 94ms/step - loss: 0.4290 - accuracy: 0.8006 - val_loss: 0.6095 - val_accuracy: 0.6683\n",
            "Epoch 41/100\n",
            "1615/1615 [==============================] - 152s 94ms/step - loss: 0.4306 - accuracy: 0.7957 - val_loss: 0.6182 - val_accuracy: 0.6708\n",
            "Epoch 42/100\n",
            "1615/1615 [==============================] - 152s 94ms/step - loss: 0.4242 - accuracy: 0.7963 - val_loss: 0.6161 - val_accuracy: 0.6980\n",
            "Epoch 43/100\n",
            "1615/1615 [==============================] - 154s 95ms/step - loss: 0.4169 - accuracy: 0.8037 - val_loss: 0.6186 - val_accuracy: 0.7005\n",
            "Epoch 44/100\n",
            "1615/1615 [==============================] - 152s 94ms/step - loss: 0.4189 - accuracy: 0.8025 - val_loss: 0.6171 - val_accuracy: 0.6832\n",
            "Epoch 45/100\n",
            "1615/1615 [==============================] - 154s 95ms/step - loss: 0.4131 - accuracy: 0.8099 - val_loss: 0.6226 - val_accuracy: 0.6856\n",
            "Epoch 46/100\n",
            "1615/1615 [==============================] - 152s 94ms/step - loss: 0.4031 - accuracy: 0.8130 - val_loss: 0.6211 - val_accuracy: 0.6881\n",
            "Epoch 47/100\n",
            "1615/1615 [==============================] - 153s 95ms/step - loss: 0.3948 - accuracy: 0.8235 - val_loss: 0.6349 - val_accuracy: 0.6881\n",
            "Epoch 48/100\n",
            "1615/1615 [==============================] - 152s 94ms/step - loss: 0.3803 - accuracy: 0.8229 - val_loss: 0.6420 - val_accuracy: 0.6733\n",
            "Epoch 49/100\n",
            "1615/1615 [==============================] - 152s 94ms/step - loss: 0.3882 - accuracy: 0.8248 - val_loss: 0.6258 - val_accuracy: 0.6832\n",
            "Epoch 50/100\n",
            "1615/1615 [==============================] - 152s 94ms/step - loss: 0.3774 - accuracy: 0.8241 - val_loss: 0.6807 - val_accuracy: 0.6757\n",
            "Epoch 51/100\n",
            "1615/1615 [==============================] - 156s 97ms/step - loss: 0.4153 - accuracy: 0.8043 - val_loss: 0.6424 - val_accuracy: 0.6931\n",
            "Epoch 52/100\n",
            "1615/1615 [==============================] - 151s 94ms/step - loss: 0.3708 - accuracy: 0.8316 - val_loss: 0.6396 - val_accuracy: 0.6856\n",
            "Epoch 53/100\n",
            "1615/1615 [==============================] - 151s 93ms/step - loss: 0.3552 - accuracy: 0.8446 - val_loss: 0.6448 - val_accuracy: 0.6906\n",
            "Epoch 54/100\n",
            "1615/1615 [==============================] - 151s 94ms/step - loss: 0.3636 - accuracy: 0.8316 - val_loss: 0.6538 - val_accuracy: 0.6832\n",
            "Epoch 55/100\n",
            "1615/1615 [==============================] - 152s 94ms/step - loss: 0.3562 - accuracy: 0.8396 - val_loss: 0.6595 - val_accuracy: 0.6733\n",
            "Epoch 56/100\n",
            "1615/1615 [==============================] - 151s 94ms/step - loss: 0.3569 - accuracy: 0.8396 - val_loss: 0.6426 - val_accuracy: 0.6832\n",
            "Epoch 57/100\n",
            "1615/1615 [==============================] - 155s 96ms/step - loss: 0.3404 - accuracy: 0.8582 - val_loss: 0.6802 - val_accuracy: 0.6757\n",
            "Epoch 58/100\n",
            "1615/1615 [==============================] - 152s 94ms/step - loss: 0.3455 - accuracy: 0.8415 - val_loss: 0.6895 - val_accuracy: 0.6782\n",
            "Epoch 59/100\n",
            "1615/1615 [==============================] - 153s 95ms/step - loss: 0.3334 - accuracy: 0.8483 - val_loss: 0.6692 - val_accuracy: 0.6856\n",
            "Epoch 60/100\n",
            "1615/1615 [==============================] - 152s 94ms/step - loss: 0.3276 - accuracy: 0.8638 - val_loss: 0.6921 - val_accuracy: 0.6634\n",
            "Epoch 61/100\n",
            "1615/1615 [==============================] - 152s 94ms/step - loss: 0.3252 - accuracy: 0.8551 - val_loss: 0.6959 - val_accuracy: 0.6807\n",
            "Epoch 62/100\n",
            "1615/1615 [==============================] - 152s 94ms/step - loss: 0.3177 - accuracy: 0.8607 - val_loss: 0.7129 - val_accuracy: 0.6683\n",
            "Epoch 63/100\n",
            "1615/1615 [==============================] - 153s 95ms/step - loss: 0.2939 - accuracy: 0.8687 - val_loss: 0.6991 - val_accuracy: 0.6881\n",
            "Epoch 64/100\n",
            "1615/1615 [==============================] - 152s 94ms/step - loss: 0.2919 - accuracy: 0.8650 - val_loss: 0.7239 - val_accuracy: 0.6609\n",
            "Epoch 65/100\n",
            "1615/1615 [==============================] - 153s 95ms/step - loss: 0.3546 - accuracy: 0.8440 - val_loss: 0.7086 - val_accuracy: 0.6757\n",
            "Epoch 66/100\n",
            "1615/1615 [==============================] - 153s 95ms/step - loss: 0.3149 - accuracy: 0.8570 - val_loss: 0.7104 - val_accuracy: 0.6931\n",
            "Epoch 67/100\n",
            "1615/1615 [==============================] - 156s 97ms/step - loss: 0.2895 - accuracy: 0.8762 - val_loss: 0.7336 - val_accuracy: 0.6733\n",
            "Epoch 68/100\n",
            "1615/1615 [==============================] - 153s 95ms/step - loss: 0.3000 - accuracy: 0.8675 - val_loss: 0.6971 - val_accuracy: 0.6881\n",
            "Epoch 69/100\n",
            "1615/1615 [==============================] - 153s 95ms/step - loss: 0.2797 - accuracy: 0.8824 - val_loss: 0.7522 - val_accuracy: 0.6856\n",
            "Epoch 70/100\n",
            "1615/1615 [==============================] - 153s 95ms/step - loss: 0.2873 - accuracy: 0.8737 - val_loss: 0.7517 - val_accuracy: 0.6658\n",
            "Epoch 71/100\n",
            "1615/1615 [==============================] - 153s 95ms/step - loss: 0.2796 - accuracy: 0.8755 - val_loss: 0.7285 - val_accuracy: 0.6609\n",
            "Epoch 72/100\n",
            "1615/1615 [==============================] - 153s 95ms/step - loss: 0.2840 - accuracy: 0.8737 - val_loss: 0.7300 - val_accuracy: 0.6807\n",
            "Epoch 73/100\n",
            "1615/1615 [==============================] - 153s 95ms/step - loss: 0.2662 - accuracy: 0.8885 - val_loss: 0.7935 - val_accuracy: 0.6609\n",
            "Epoch 74/100\n",
            "1615/1615 [==============================] - 153s 95ms/step - loss: 0.2676 - accuracy: 0.8885 - val_loss: 0.8058 - val_accuracy: 0.6584\n",
            "Epoch 75/100\n",
            "1615/1615 [==============================] - 157s 97ms/step - loss: 0.2959 - accuracy: 0.8737 - val_loss: 0.7553 - val_accuracy: 0.6559\n",
            "Epoch 76/100\n",
            "1615/1615 [==============================] - 152s 94ms/step - loss: 0.2566 - accuracy: 0.8842 - val_loss: 0.7531 - val_accuracy: 0.6683\n",
            "Epoch 77/100\n",
            "1615/1615 [==============================] - 152s 94ms/step - loss: 0.2555 - accuracy: 0.8904 - val_loss: 0.7608 - val_accuracy: 0.6658\n",
            "Epoch 78/100\n",
            "1615/1615 [==============================] - 152s 94ms/step - loss: 0.2556 - accuracy: 0.8904 - val_loss: 0.7663 - val_accuracy: 0.6609\n",
            "Epoch 79/100\n",
            "1615/1615 [==============================] - 153s 95ms/step - loss: 0.2399 - accuracy: 0.9071 - val_loss: 0.7973 - val_accuracy: 0.6460\n",
            "Epoch 80/100\n",
            "1615/1615 [==============================] - 152s 94ms/step - loss: 0.2572 - accuracy: 0.8916 - val_loss: 0.8203 - val_accuracy: 0.6856\n",
            "Epoch 81/100\n",
            "1615/1615 [==============================] - 152s 94ms/step - loss: 0.2737 - accuracy: 0.8774 - val_loss: 0.7779 - val_accuracy: 0.6757\n",
            "Epoch 82/100\n",
            "1615/1615 [==============================] - 152s 94ms/step - loss: 0.2462 - accuracy: 0.8898 - val_loss: 0.7804 - val_accuracy: 0.6733\n",
            "Epoch 83/100\n",
            "1615/1615 [==============================] - 152s 94ms/step - loss: 0.2456 - accuracy: 0.8997 - val_loss: 0.8342 - val_accuracy: 0.6559\n",
            "Epoch 84/100\n",
            "1615/1615 [==============================] - 152s 94ms/step - loss: 0.2356 - accuracy: 0.8997 - val_loss: 0.8098 - val_accuracy: 0.6609\n",
            "Epoch 85/100\n",
            "1615/1615 [==============================] - 152s 94ms/step - loss: 0.2370 - accuracy: 0.9071 - val_loss: 0.8089 - val_accuracy: 0.6535\n",
            "Epoch 86/100\n",
            "1615/1615 [==============================] - 152s 94ms/step - loss: 0.2353 - accuracy: 0.9028 - val_loss: 0.8272 - val_accuracy: 0.6782\n",
            "Epoch 87/100\n",
            "1615/1615 [==============================] - 153s 95ms/step - loss: 0.2400 - accuracy: 0.8947 - val_loss: 0.8715 - val_accuracy: 0.6634\n",
            "Epoch 88/100\n",
            "1615/1615 [==============================] - 153s 94ms/step - loss: 0.2300 - accuracy: 0.9034 - val_loss: 0.7802 - val_accuracy: 0.6832\n",
            "Epoch 89/100\n",
            "1615/1615 [==============================] - 152s 94ms/step - loss: 0.2067 - accuracy: 0.9139 - val_loss: 0.8564 - val_accuracy: 0.6782\n",
            "Epoch 90/100\n",
            "1615/1615 [==============================] - 153s 95ms/step - loss: 0.2294 - accuracy: 0.9108 - val_loss: 0.8721 - val_accuracy: 0.6634\n",
            "Epoch 91/100\n",
            "1615/1615 [==============================] - 156s 97ms/step - loss: 0.2142 - accuracy: 0.9090 - val_loss: 0.8517 - val_accuracy: 0.6832\n",
            "Epoch 92/100\n",
            "1615/1615 [==============================] - 152s 94ms/step - loss: 0.2006 - accuracy: 0.9220 - val_loss: 0.8427 - val_accuracy: 0.6584\n",
            "Epoch 93/100\n",
            "1615/1615 [==============================] - 153s 95ms/step - loss: 0.2075 - accuracy: 0.9176 - val_loss: 0.8593 - val_accuracy: 0.6757\n",
            "Epoch 94/100\n",
            "1615/1615 [==============================] - 152s 94ms/step - loss: 0.2232 - accuracy: 0.9065 - val_loss: 0.8931 - val_accuracy: 0.6559\n",
            "Epoch 95/100\n",
            "1615/1615 [==============================] - 153s 95ms/step - loss: 0.2095 - accuracy: 0.9158 - val_loss: 0.8646 - val_accuracy: 0.6733\n",
            "Epoch 96/100\n",
            "1615/1615 [==============================] - 152s 94ms/step - loss: 0.2204 - accuracy: 0.8997 - val_loss: 0.8883 - val_accuracy: 0.6683\n",
            "Epoch 97/100\n",
            "1615/1615 [==============================] - 151s 94ms/step - loss: 0.1899 - accuracy: 0.9238 - val_loss: 0.9105 - val_accuracy: 0.6683\n",
            "Epoch 98/100\n",
            "1615/1615 [==============================] - 151s 94ms/step - loss: 0.1903 - accuracy: 0.9201 - val_loss: 0.9061 - val_accuracy: 0.6757\n",
            "Epoch 99/100\n",
            "1615/1615 [==============================] - 155s 96ms/step - loss: 0.1954 - accuracy: 0.9288 - val_loss: 0.9546 - val_accuracy: 0.6609\n",
            "Epoch 100/100\n",
            "1615/1615 [==============================] - 151s 94ms/step - loss: 0.2090 - accuracy: 0.9201 - val_loss: 0.9318 - val_accuracy: 0.6733\n"
          ],
          "name": "stdout"
        },
        {
          "output_type": "execute_result",
          "data": {
            "text/plain": [
              "<keras.callbacks.callbacks.History at 0x7fbc637e0630>"
            ]
          },
          "metadata": {
            "tags": []
          },
          "execution_count": 20
        }
      ]
    },
    {
      "cell_type": "code",
      "metadata": {
        "id": "NfFYAI9gkQPA",
        "colab_type": "code",
        "colab": {}
      },
      "source": [
        "model.save('/content/my_model.pb') "
      ],
      "execution_count": 0,
      "outputs": []
    },
    {
      "cell_type": "code",
      "metadata": {
        "id": "EMm_yBAekQMp",
        "colab_type": "code",
        "colab": {}
      },
      "source": [
        "from google.colab import files\n",
        "\n",
        "files.download('my_model.pb')"
      ],
      "execution_count": 0,
      "outputs": []
    },
    {
      "cell_type": "code",
      "metadata": {
        "id": "2mwfppG9m7eM",
        "colab_type": "code",
        "colab": {}
      },
      "source": [
        "!pip install -q pyyaml h5py"
      ],
      "execution_count": 0,
      "outputs": []
    },
    {
      "cell_type": "code",
      "metadata": {
        "id": "lya0_Kn8nXK3",
        "colab_type": "code",
        "outputId": "e2b838b9-8b78-4f67-9fb0-c307797d3b1e",
        "colab": {
          "base_uri": "https://localhost:8080/",
          "height": 306
        }
      },
      "source": [
        "keras.Model.save(model, 'audio_processing_model1')"
      ],
      "execution_count": 0,
      "outputs": [
        {
          "output_type": "error",
          "ename": "ValueError",
          "evalue": "ignored",
          "traceback": [
            "\u001b[0;31m---------------------------------------------------------------------------\u001b[0m",
            "\u001b[0;31mValueError\u001b[0m                                Traceback (most recent call last)",
            "\u001b[0;32m<ipython-input-52-1e138a5a1783>\u001b[0m in \u001b[0;36m<module>\u001b[0;34m()\u001b[0m\n\u001b[0;32m----> 1\u001b[0;31m \u001b[0mkeras\u001b[0m\u001b[0;34m.\u001b[0m\u001b[0mModel\u001b[0m\u001b[0;34m.\u001b[0m\u001b[0msave\u001b[0m\u001b[0;34m(\u001b[0m\u001b[0mmodel\u001b[0m\u001b[0;34m,\u001b[0m \u001b[0;34m'audio_processing_model1'\u001b[0m\u001b[0;34m)\u001b[0m\u001b[0;34m\u001b[0m\u001b[0;34m\u001b[0m\u001b[0m\n\u001b[0m",
            "\u001b[0;32m/usr/local/lib/python3.6/dist-packages/tensorflow/python/keras/engine/network.py\u001b[0m in \u001b[0;36msave\u001b[0;34m(self, filepath, overwrite, include_optimizer, save_format, signatures, options)\u001b[0m\n\u001b[1;32m   1050\u001b[0m     \"\"\"\n\u001b[1;32m   1051\u001b[0m     save.save_model(self, filepath, overwrite, include_optimizer, save_format,\n\u001b[0;32m-> 1052\u001b[0;31m                     signatures, options)\n\u001b[0m\u001b[1;32m   1053\u001b[0m \u001b[0;34m\u001b[0m\u001b[0m\n\u001b[1;32m   1054\u001b[0m   \u001b[0;32mdef\u001b[0m \u001b[0msave_weights\u001b[0m\u001b[0;34m(\u001b[0m\u001b[0mself\u001b[0m\u001b[0;34m,\u001b[0m \u001b[0mfilepath\u001b[0m\u001b[0;34m,\u001b[0m \u001b[0moverwrite\u001b[0m\u001b[0;34m=\u001b[0m\u001b[0;32mTrue\u001b[0m\u001b[0;34m,\u001b[0m \u001b[0msave_format\u001b[0m\u001b[0;34m=\u001b[0m\u001b[0;32mNone\u001b[0m\u001b[0;34m)\u001b[0m\u001b[0;34m:\u001b[0m\u001b[0;34m\u001b[0m\u001b[0;34m\u001b[0m\u001b[0m\n",
            "\u001b[0;32m/usr/local/lib/python3.6/dist-packages/tensorflow/python/keras/saving/save.py\u001b[0m in \u001b[0;36msave_model\u001b[0;34m(model, filepath, overwrite, include_optimizer, save_format, signatures, options)\u001b[0m\n\u001b[1;32m    136\u001b[0m   \u001b[0;32melse\u001b[0m\u001b[0;34m:\u001b[0m\u001b[0;34m\u001b[0m\u001b[0;34m\u001b[0m\u001b[0m\n\u001b[1;32m    137\u001b[0m     saved_model_save.save(model, filepath, overwrite, include_optimizer,\n\u001b[0;32m--> 138\u001b[0;31m                           signatures, options)\n\u001b[0m\u001b[1;32m    139\u001b[0m \u001b[0;34m\u001b[0m\u001b[0m\n\u001b[1;32m    140\u001b[0m \u001b[0;34m\u001b[0m\u001b[0m\n",
            "\u001b[0;32m/usr/local/lib/python3.6/dist-packages/tensorflow/python/keras/saving/saved_model/save.py\u001b[0m in \u001b[0;36msave\u001b[0;34m(model, filepath, overwrite, include_optimizer, signatures, options)\u001b[0m\n\u001b[1;32m     76\u001b[0m     \u001b[0;31m# we use the default replica context here.\u001b[0m\u001b[0;34m\u001b[0m\u001b[0;34m\u001b[0m\u001b[0;34m\u001b[0m\u001b[0m\n\u001b[1;32m     77\u001b[0m     \u001b[0;32mwith\u001b[0m \u001b[0mdistribution_strategy_context\u001b[0m\u001b[0;34m.\u001b[0m\u001b[0m_get_default_replica_context\u001b[0m\u001b[0;34m(\u001b[0m\u001b[0;34m)\u001b[0m\u001b[0;34m:\u001b[0m  \u001b[0;31m# pylint: disable=protected-access\u001b[0m\u001b[0;34m\u001b[0m\u001b[0;34m\u001b[0m\u001b[0m\n\u001b[0;32m---> 78\u001b[0;31m       \u001b[0msave_lib\u001b[0m\u001b[0;34m.\u001b[0m\u001b[0msave\u001b[0m\u001b[0;34m(\u001b[0m\u001b[0mmodel\u001b[0m\u001b[0;34m,\u001b[0m \u001b[0mfilepath\u001b[0m\u001b[0;34m,\u001b[0m \u001b[0msignatures\u001b[0m\u001b[0;34m,\u001b[0m \u001b[0moptions\u001b[0m\u001b[0;34m)\u001b[0m\u001b[0;34m\u001b[0m\u001b[0;34m\u001b[0m\u001b[0m\n\u001b[0m\u001b[1;32m     79\u001b[0m \u001b[0;34m\u001b[0m\u001b[0m\n\u001b[1;32m     80\u001b[0m   \u001b[0;32mif\u001b[0m \u001b[0;32mnot\u001b[0m \u001b[0minclude_optimizer\u001b[0m\u001b[0;34m:\u001b[0m\u001b[0;34m\u001b[0m\u001b[0;34m\u001b[0m\u001b[0m\n",
            "\u001b[0;32m/usr/local/lib/python3.6/dist-packages/tensorflow/python/saved_model/save.py\u001b[0m in \u001b[0;36msave\u001b[0;34m(obj, export_dir, signatures, options)\u001b[0m\n\u001b[1;32m    949\u001b[0m \u001b[0;34m\u001b[0m\u001b[0m\n\u001b[1;32m    950\u001b[0m   _, exported_graph, object_saver, asset_info = _build_meta_graph(\n\u001b[0;32m--> 951\u001b[0;31m       obj, export_dir, signatures, options, meta_graph_def)\n\u001b[0m\u001b[1;32m    952\u001b[0m   \u001b[0msaved_model\u001b[0m\u001b[0;34m.\u001b[0m\u001b[0msaved_model_schema_version\u001b[0m \u001b[0;34m=\u001b[0m \u001b[0mconstants\u001b[0m\u001b[0;34m.\u001b[0m\u001b[0mSAVED_MODEL_SCHEMA_VERSION\u001b[0m\u001b[0;34m\u001b[0m\u001b[0;34m\u001b[0m\u001b[0m\n\u001b[1;32m    953\u001b[0m \u001b[0;34m\u001b[0m\u001b[0m\n",
            "\u001b[0;32m/usr/local/lib/python3.6/dist-packages/tensorflow/python/saved_model/save.py\u001b[0m in \u001b[0;36m_build_meta_graph\u001b[0;34m(obj, export_dir, signatures, options, meta_graph_def)\u001b[0m\n\u001b[1;32m    999\u001b[0m   \u001b[0;32mif\u001b[0m \u001b[0;32mnot\u001b[0m \u001b[0misinstance\u001b[0m\u001b[0;34m(\u001b[0m\u001b[0mobj\u001b[0m\u001b[0;34m,\u001b[0m \u001b[0mbase\u001b[0m\u001b[0;34m.\u001b[0m\u001b[0mTrackable\u001b[0m\u001b[0;34m)\u001b[0m\u001b[0;34m:\u001b[0m\u001b[0;34m\u001b[0m\u001b[0;34m\u001b[0m\u001b[0m\n\u001b[1;32m   1000\u001b[0m     raise ValueError(\n\u001b[0;32m-> 1001\u001b[0;31m         \"Expected a Trackable object for export, got {}.\".format(obj))\n\u001b[0m\u001b[1;32m   1002\u001b[0m   \u001b[0moptions\u001b[0m \u001b[0;34m=\u001b[0m \u001b[0moptions\u001b[0m \u001b[0;32mor\u001b[0m \u001b[0msave_options\u001b[0m\u001b[0;34m.\u001b[0m\u001b[0mSaveOptions\u001b[0m\u001b[0;34m(\u001b[0m\u001b[0;34m)\u001b[0m\u001b[0;34m\u001b[0m\u001b[0;34m\u001b[0m\u001b[0m\n\u001b[1;32m   1003\u001b[0m   \u001b[0mmeta_graph_def\u001b[0m \u001b[0;34m=\u001b[0m \u001b[0mmeta_graph_def\u001b[0m \u001b[0;32mor\u001b[0m \u001b[0mmeta_graph_pb2\u001b[0m\u001b[0;34m.\u001b[0m\u001b[0mMetaGraphDef\u001b[0m\u001b[0;34m(\u001b[0m\u001b[0;34m)\u001b[0m\u001b[0;34m\u001b[0m\u001b[0;34m\u001b[0m\u001b[0m\n",
            "\u001b[0;31mValueError\u001b[0m: Expected a Trackable object for export, got <keras.engine.sequential.Sequential object at 0x7fbc637d55f8>."
          ]
        }
      ]
    },
    {
      "cell_type": "code",
      "metadata": {
        "id": "JY7TyfwRnua2",
        "colab_type": "code",
        "colab": {}
      },
      "source": [
        "files.download('my_model1.h5') "
      ],
      "execution_count": 0,
      "outputs": []
    },
    {
      "cell_type": "code",
      "metadata": {
        "id": "7EBkw3n80EL5",
        "colab_type": "code",
        "colab": {}
      },
      "source": [
        "!mkdir -p saved_model\n",
        "model.save('saved_model/my_model') "
      ],
      "execution_count": 0,
      "outputs": []
    },
    {
      "cell_type": "code",
      "metadata": {
        "id": "6pj8Vn2QpcUW",
        "colab_type": "code",
        "outputId": "9d21c0e9-a5b3-463c-84b1-31143a22d1c7",
        "colab": {
          "base_uri": "https://localhost:8080/",
          "height": 629
        }
      },
      "source": [
        "model.summary()"
      ],
      "execution_count": 0,
      "outputs": [
        {
          "output_type": "stream",
          "text": [
            "Model: \"sequential_2\"\n",
            "_________________________________________________________________\n",
            "Layer (type)                 Output Shape              Param #   \n",
            "=================================================================\n",
            "conv2d_5 (Conv2D)            (None, 39, 7222, 16)      80        \n",
            "_________________________________________________________________\n",
            "max_pooling2d_5 (MaxPooling2 (None, 19, 3611, 16)      0         \n",
            "_________________________________________________________________\n",
            "dropout_5 (Dropout)          (None, 19, 3611, 16)      0         \n",
            "_________________________________________________________________\n",
            "conv2d_6 (Conv2D)            (None, 18, 3610, 32)      2080      \n",
            "_________________________________________________________________\n",
            "max_pooling2d_6 (MaxPooling2 (None, 9, 1805, 32)       0         \n",
            "_________________________________________________________________\n",
            "dropout_6 (Dropout)          (None, 9, 1805, 32)       0         \n",
            "_________________________________________________________________\n",
            "conv2d_7 (Conv2D)            (None, 8, 1804, 64)       8256      \n",
            "_________________________________________________________________\n",
            "max_pooling2d_7 (MaxPooling2 (None, 4, 902, 64)        0         \n",
            "_________________________________________________________________\n",
            "dropout_7 (Dropout)          (None, 4, 902, 64)        0         \n",
            "_________________________________________________________________\n",
            "conv2d_8 (Conv2D)            (None, 3, 901, 128)       32896     \n",
            "_________________________________________________________________\n",
            "max_pooling2d_8 (MaxPooling2 (None, 1, 450, 128)       0         \n",
            "_________________________________________________________________\n",
            "dropout_8 (Dropout)          (None, 1, 450, 128)       0         \n",
            "_________________________________________________________________\n",
            "global_average_pooling2d_2 ( (None, 128)               0         \n",
            "_________________________________________________________________\n",
            "dense_2 (Dense)              (None, 2)                 258       \n",
            "=================================================================\n",
            "Total params: 43,570\n",
            "Trainable params: 43,570\n",
            "Non-trainable params: 0\n",
            "_________________________________________________________________\n"
          ],
          "name": "stdout"
        }
      ]
    },
    {
      "cell_type": "code",
      "metadata": {
        "id": "mvalFNLGpxps",
        "colab_type": "code",
        "outputId": "3a01bf20-c5df-4c76-c1df-a3e1a4aed3f2",
        "colab": {
          "base_uri": "https://localhost:8080/",
          "height": 51
        }
      },
      "source": [
        "score = model.evaluate(x_train, y_train, verbose=0)\n",
        "print(\"Training Accuracy: \", score[1])\n",
        "\n",
        "score = model.evaluate(x_test, y_test, verbose=0)\n",
        "print(\"Testing Accuracy: \", score[1])"
      ],
      "execution_count": 0,
      "outputs": [
        {
          "output_type": "stream",
          "text": [
            "Training Accuracy:  0.9783281683921814\n",
            "Testing Accuracy:  0.6732673048973083\n"
          ],
          "name": "stdout"
        }
      ]
    },
    {
      "cell_type": "code",
      "metadata": {
        "id": "vhmmAnM5n76q",
        "colab_type": "code",
        "outputId": "338f0bf9-ad84-4218-c0c6-6bdec129d625",
        "colab": {
          "base_uri": "https://localhost:8080/",
          "height": 34
        }
      },
      "source": [
        "!python --version"
      ],
      "execution_count": 0,
      "outputs": [
        {
          "output_type": "stream",
          "text": [
            "Python 3.6.9\n"
          ],
          "name": "stdout"
        }
      ]
    }
  ]
}